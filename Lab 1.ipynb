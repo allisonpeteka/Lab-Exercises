{
 "cells": [
  {
   "cell_type": "code",
   "execution_count": 5,
   "id": "9a7a7505",
   "metadata": {},
   "outputs": [
    {
     "name": "stdout",
     "output_type": "stream",
     "text": [
      "chestnut\n"
     ]
    }
   ],
   "source": [
    "#question 1: partial code taken from https://www.studytonight.com/python-howtos/how-to-choose-the-longest-string-in-a-python-list#:~:text=Example%3A%20Find%20Longest%20String%20from%20List%20using%20max()%20Function,string%20with%20the%20maximum%20length.\n",
    "list = [\"apple\", \"chestnut\", \"gargoyle\", \"pandas\", \"sheep\", \"raptor\"]\n",
    "def longest(list):\n",
    "    answer = max(list, key=len) #max takes the largest, key tells it it check for length of each string, so the max string or largest string\n",
    "    print(answer)\n",
    "longest(list)"
   ]
  },
  {
   "cell_type": "code",
   "execution_count": 12,
   "id": "edaaf69d",
   "metadata": {},
   "outputs": [
    {
     "name": "stdout",
     "output_type": "stream",
     "text": [
      "LARCENOUS\n"
     ]
    }
   ],
   "source": [
    "#question 2: random word list taken from Professor Gibson's find http://norvig.com/ngrams/sowpods.txt\n",
    "import random \n",
    "sowpods = \"sowpods.txt\"\n",
    "random_list = []\n",
    "def word_generator():\n",
    "    filename = sowpods\n",
    "    f = open(filename, \"r\", encoding= \"utf8\")\n",
    "    words = f.readlines()\n",
    "    f.close()\n",
    "    for i in range(7):\n",
    "        return random_list.append(random.choice(words).strip())\n",
    "word_generator()\n",
    "longest(random_list)"
   ]
  },
  {
   "cell_type": "code",
   "execution_count": 10,
   "id": "34604bbf",
   "metadata": {},
   "outputs": [
    {
     "name": "stdout",
     "output_type": "stream",
     "text": [
      "{'apples': 3, 'grapes': 4, 'oranges': 3, 'cherries': 2}\n"
     ]
    }
   ],
   "source": [
    "#question 3\n",
    "groceries = {\"apples\" : 3, \"grapes\" : 4, \"oranges\" : 3, \"cherries\" : 2}\n",
    "#function 1\n",
    "groceries2 = groceries.copy()\n",
    "groceries2\n",
    "#function 2\n",
    "groceries2.popitem()\n",
    "groceries2\n",
    "#function 3\n",
    "groceries2.values()\n",
    "#function 4\n",
    "groceries2.clear()\n",
    "groceries2 #dictonary comes up empty\n",
    "print(groceries)"
   ]
  },
  {
   "cell_type": "code",
   "execution_count": 21,
   "id": "312d4134",
   "metadata": {},
   "outputs": [
    {
     "name": "stdout",
     "output_type": "stream",
     "text": [
      "541\n",
      "77.28571428571429\n",
      "{'Geography': 89, 'Math': 80, 'History': 96, 'English': 92, 'Science': 89, 'Gym': 95}\n"
     ]
    }
   ],
   "source": [
    "#question 4\n",
    "#I choose option 1, managing a school record because I felt like I can get the most creaive with it. School records hold a lot of information in them such as GPA, school record, grade, etc.\n",
    "class StudentRecord: \n",
    "    def __init__(self, gpa, grades, classes):  #defines the three objects selected, gpa, grades, and the classes the student is taking currently\n",
    "        self.gpa = gpa\n",
    "        self.grades = grades \n",
    "        self.classes = classes\n",
    "    def totalgrades(self):   #adds up all the grades in each class student is taking\n",
    "        self.grades = 89 + 80 + 96 + 92 + 89 + 95\n",
    "        print(self.grades)\n",
    "    def total(self):   #takes the total grades and divides it by the number of classes taken (to get the average/gpa)\n",
    "        self.gpa = self.grades / 7\n",
    "        print(self.gpa)\n",
    "    def classview(self):   #class list in the form of a dictonary \n",
    "        print({\"Geography\" : 89, \"Math\" : 80, \"History\" : 96, \"English\" : 92, \"Science\" : 89, \"Gym\" : 95})\n",
    "abby = StudentRecord(0, 0, 0)\n",
    "abby.totalgrades()\n",
    "abby.total()\n",
    "abby.classview()"
   ]
  },
  {
   "cell_type": "code",
   "execution_count": null,
   "id": "2a20d2e6",
   "metadata": {},
   "outputs": [
    {
     "name": "stdout",
     "output_type": "stream",
     "text": [
      "Guess a letter:w\n",
      "Wrong. Guess again.\n",
      "Guess a letter:q\n",
      "Wrong. Guess again.\n",
      "Guess a letter:q\n",
      "Wrong. Guess again.\n",
      "You have already guessed this letter. Guess again.\n",
      "Guess a letter:k\n",
      "Correct!\n",
      "Guess a letter:e\n",
      "Correct!\n",
      "Guess a letter:h\n",
      "Wrong. Guess again.\n",
      "Guess a letter:t\n",
      "Wrong. Guess again.\n",
      "Guess a letter:b\n",
      "Wrong. Guess again.\n",
      "Guess a letter:f\n",
      "Wrong. Guess again.\n",
      "Guess a letter:l\n",
      "Wrong. Guess again.\n",
      "Guess a letter:a\n",
      "Correct!\n",
      "Guess a letter:k\n",
      "Correct!\n",
      "You have already guessed this letter. Guess again.\n",
      "Guess a letter:e\n",
      "Correct!\n",
      "You have already guessed this letter. Guess again.\n",
      "Guess a letter:s\n",
      "Correct!\n",
      "Guess a letter:c\n",
      "Correct!\n"
     ]
    }
   ],
   "source": [
    "#In order for my game to work I had to add a while loop. When I left class everything was working in my game besides for the fact that the game would stop after five guesses, adding the while loop before the for loop increases the number of guesses the player has. \n",
    "#question 5\n",
    "word = \"cakes\"\n",
    "guesses = 0\n",
    "alpha = []\n",
    "while guesses < 10:\n",
    "    for i in word:\n",
    "        i = input(\"Guess a letter:\")\n",
    "        if i in word:\n",
    "            print(\"Correct!\")\n",
    "            guesses + 1\n",
    "            if i not in alpha:\n",
    "                alpha.append(i)\n",
    "            else:\n",
    "                print(\"You have already guessed this letter. Guess again.\")\n",
    "           \n",
    "        else:\n",
    "            print(\"Wrong. Guess again.\")\n",
    "            guesses + 1\n",
    "            if i not in alpha:\n",
    "                alpha.append(i)\n",
    "            else:\n",
    "                print(\"You have already guessed this letter. Guess again.\")\n",
    "        if guesses == 10:\n",
    "            print(\"You lose.\")\n",
    "            break"
   ]
  },
  {
   "cell_type": "code",
   "execution_count": null,
   "id": "2bbb5fee",
   "metadata": {},
   "outputs": [],
   "source": []
  }
 ],
 "metadata": {
  "kernelspec": {
   "display_name": "Python 3 (ipykernel)",
   "language": "python",
   "name": "python3"
  },
  "language_info": {
   "codemirror_mode": {
    "name": "ipython",
    "version": 3
   },
   "file_extension": ".py",
   "mimetype": "text/x-python",
   "name": "python",
   "nbconvert_exporter": "python",
   "pygments_lexer": "ipython3",
   "version": "3.9.12"
  }
 },
 "nbformat": 4,
 "nbformat_minor": 5
}
